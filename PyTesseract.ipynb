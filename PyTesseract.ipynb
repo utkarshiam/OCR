{
 "cells": [
  {
   "cell_type": "code",
   "execution_count": null,
   "metadata": {
    "collapsed": true
   },
   "outputs": [],
   "source": []
  },
  {
   "cell_type": "code",
   "execution_count": null,
   "metadata": {
    "collapsed": true
   },
   "outputs": [],
   "source": [
    "# brew install tesseract\n",
    "\n",
    "# https://github.com/tesseract-ocr/tesseract/wiki"
   ]
  },
  {
   "cell_type": "code",
   "execution_count": null,
   "metadata": {
    "collapsed": false
   },
   "outputs": [],
   "source": [
    "#     ! pip3 install pytesseract"
   ]
  },
  {
   "cell_type": "code",
   "execution_count": 1,
   "metadata": {
    "collapsed": true
   },
   "outputs": [],
   "source": [
    "from PIL import Image \n",
    "# import Image\n",
    "\n",
    "import pytesseract\n",
    "\n",
    "from matplotlib.pyplot import figure"
   ]
  },
  {
   "cell_type": "code",
   "execution_count": null,
   "metadata": {
    "collapsed": true
   },
   "outputs": [],
   "source": []
  },
  {
   "cell_type": "code",
   "execution_count": 2,
   "metadata": {
    "collapsed": true
   },
   "outputs": [],
   "source": [
    "\n",
    "# full_path_to_your_tesseract_executable\n",
    "pytesseract.pytesseract.tesseract_cmd = r'/usr/local/Cellar/tesseract/4.0.0_1/bin/tesseract'\n"
   ]
  },
  {
   "cell_type": "code",
   "execution_count": null,
   "metadata": {
    "collapsed": true
   },
   "outputs": [],
   "source": []
  },
  {
   "cell_type": "code",
   "execution_count": 3,
   "metadata": {
    "collapsed": true
   },
   "outputs": [],
   "source": [
    "import cv2 as cv2\n",
    "\n",
    "def image_resize(image, width = None, height = None, inter = cv2.INTER_AREA):\n",
    "    # initialize the dimensions of the image to be resized and\n",
    "    # grab the image size\n",
    "    dim = None\n",
    "    (h, w) = image.shape[:2]\n",
    "\n",
    "    # if both the width and height are None, then return the\n",
    "    # original image\n",
    "    if width is None and height is None:\n",
    "        return image\n",
    "\n",
    "    # check to see if the width is None\n",
    "    if width is None:\n",
    "        # calculate the ratio of the height and construct the\n",
    "        # dimensions\n",
    "        r = height / float(h)\n",
    "        dim = (int(w * r), height)\n",
    "\n",
    "    # otherwise, the height is None\n",
    "    else:\n",
    "        # calculate the ratio of the width and construct the\n",
    "        # dimensions\n",
    "        r = width / float(w)\n",
    "        dim = (width, int(h * r))\n",
    "\n",
    "    # resize the image\n",
    "    resized = cv2.resize(image, dim, interpolation = inter)\n",
    "\n",
    "    # return the resized image\n",
    "    return resized\n",
    "\n",
    "\n",
    "\n",
    "def sliding_window(image):\n",
    "    \n",
    "    rows, cols,_ = image.shape\n",
    "    \n",
    "    startW = cols // 4\n",
    "    print(startW)\n",
    "    startH = rows // 4\n",
    "    print(startH)\n",
    "    endW = 4*cols // 4\n",
    "    print(endW)\n",
    "    endH = 3*rows // 4\n",
    "    print(endH)\n",
    "    winW = 150\n",
    "    print(winW)\n",
    "    winH = 100\n",
    "    print(winH)\n",
    "    stepSize = 50\n",
    "    \n",
    "    # slide a window across the image\n",
    "    for y in range(startH, endH, stepSize):\n",
    "        for x in range(startW, endW, stepSize):\n",
    "            # yield the current window\n",
    "            yield (x, y, image[y:(y+winH), x:(x+winW)])\n",
    "          \n",
    "        \n",
    "\n",
    "        \n",
    "def get_ocr(image):\n",
    "    \n",
    "    ret,img = cv.threshold(image,127,255,cv.THRESH_TOZERO) # THRESH_TOZERO or THRESH_BINARY\n",
    "    \n",
    "    img = image_resize(img, width=200)\n",
    "    \n",
    "    ocr = pytesseract.image_to_string(img)\n",
    "    return ocr\n",
    "        \n",
    "            \n",
    "        \n",
    "        \n",
    "def get_car_number(s):\n",
    "    r = \"\".join(s.split())\n",
    "    r = r.upper()\n",
    "    if 8<len(r)<12 and r.isalnum() and (not r.isalpha()): # Maybe add more conditions like starts with \"UP\", \"DL\"\n",
    "        return r\n",
    "    else:\n",
    "        return None\n",
    "    "
   ]
  },
  {
   "cell_type": "code",
   "execution_count": null,
   "metadata": {
    "collapsed": false
   },
   "outputs": [],
   "source": [
    "import cv2 as cv\n",
    "import numpy as np\n",
    "from matplotlib import pyplot as plt\n",
    "from skimage.io import imread\n",
    "\n",
    "\n",
    "filename = './5.mp4'\n",
    "cap = cv2.VideoCapture(filename)\n",
    "# cap = cv2.VideoCapture(0)\n",
    "count = 0\n",
    "\n",
    "while cap.isOpened():\n",
    "    ret,frame = cap.read()\n",
    "    if ret == True:\n",
    "        cv2.imshow('window-name',frame)\n",
    "        cv2.imwrite(\"./data/frame%d.jpg\" % count, frame)\n",
    "        count = count + 1\n",
    "        if cv2.waitKey(10) & 0xFF == ord('q'):\n",
    "            break\n",
    "    else:\n",
    "        break\n",
    "cap.release()\n",
    "cv.destroyAllWindows()\n",
    "\n",
    "# car image -> grayscale image -> binary image\n",
    "\n",
    "imgLarge = imread(\"./data/frame%d.jpg\"%(count-80),0) #count changed\n",
    "\n",
    "print(imgLarge.shape)\n",
    "\n",
    "\n",
    "for (x, y, window) in sliding_window(imgLarge):\n",
    "    \n",
    "    ocr = get_ocr(window)\n",
    "    car = get_car_number(ocr)\n",
    "    plt.imshow(window,'gray')\n",
    "    if car != None:\n",
    "        plt.imshow(window,'gray')\n",
    "        plt.show()\n",
    "\n",
    "        print('\\n',car)\n",
    "        \n",
    "        # Try more samples around this image\n",
    "        for (x2, y2, window2) in sliding_window(window):\n",
    "            ocr2 = get_ocr(window2)\n",
    "            car2 = get_car_number(ocr2)\n",
    "            if car2 != None:\n",
    "                plt.imshow(window2,'gray')\n",
    "                plt.show()\n",
    "                print('\\n',car2)\n",
    "            else:\n",
    "                print('*',end='')\n",
    "            \n",
    "            \n",
    "            \n",
    "        break # !!!!\n",
    "        \n",
    "    else:\n",
    "        print('.', end='')\n",
    "        \n",
    "        "
   ]
  },
  {
   "cell_type": "code",
   "execution_count": null,
   "metadata": {
    "collapsed": false
   },
   "outputs": [],
   "source": [
    "# import cv2 as cv\n",
    "# import numpy as np\n",
    "# from matplotlib import pyplot as plt\n",
    "\n",
    "\n",
    "# imgLarge = cv.imread('img/vid1.png',0)\n",
    "\n",
    "\n",
    "# for (x, y, window) in sliding_window(imgLarge):\n",
    "    \n",
    "#     ret,img = cv.threshold(window,127,255,cv.THRESH_TOZERO) # THRESH_TOZERO or THRESH_BINARY\n",
    "    \n",
    "#     img = image_resize(img, width=200)\n",
    "    \n",
    "#     ocr = pytesseract.image_to_string(img)\n",
    "#     car = get_car_number(ocr)\n",
    "    \n",
    "#     if car != None:\n",
    "#         plt.imshow(img,'gray')\n",
    "#         plt.xticks([]),plt.yticks([])\n",
    "#         plt.show()\n",
    "\n",
    "#         print()\n",
    "#         print(car)\n",
    "        \n",
    "#         matchedX = x\n",
    "#         matchedY = y\n",
    "        \n",
    "#         break # !!!!\n",
    "        \n",
    "#     else:\n",
    "#         print('.', end='')\n",
    "        \n",
    "        \n",
    "        \n"
   ]
  },
  {
   "cell_type": "code",
   "execution_count": null,
   "metadata": {
    "collapsed": true
   },
   "outputs": [],
   "source": []
  },
  {
   "cell_type": "code",
   "execution_count": null,
   "metadata": {
    "collapsed": true
   },
   "outputs": [],
   "source": []
  },
  {
   "cell_type": "code",
   "execution_count": null,
   "metadata": {
    "collapsed": true
   },
   "outputs": [],
   "source": []
  },
  {
   "cell_type": "markdown",
   "metadata": {},
   "source": []
  },
  {
   "cell_type": "code",
   "execution_count": null,
   "metadata": {
    "collapsed": true
   },
   "outputs": [],
   "source": [
    "# import cv2 as cv\n",
    "# import numpy as np\n",
    "# from matplotlib import pyplot as plt\n",
    "\n",
    "\n",
    "# img = cv.imread('img/vid1.png',0)\n",
    "\n",
    "# rows, cols = img.shape\n",
    "# print(rows, cols)\n",
    "# top, bottom, left, right = 8*rows//16, 9*rows//16, 16*cols//32, 19*cols//32\n",
    "# # top, bottom, left, right = 1*rows//4, 3*rows//4, 1*cols//4, 3*cols//4\n",
    "# img = img[top:bottom, left:right]\n",
    "# print(img.shape)\n",
    "\n",
    "# # img = image_resize(img, width=600)\n",
    "# # print(img.shape)\n",
    "\n",
    "# # img = cv.medianBlur(img,1)\n",
    "\n",
    "# ret,thresh1 = cv.threshold(img,127,255,cv.THRESH_BINARY)\n",
    "# ret,thresh2 = cv.threshold(img,127,255,cv.THRESH_TRUNC)\n",
    "# ret,thresh3 = cv.threshold(img,127,255,cv.THRESH_TOZERO)\n",
    "\n",
    "# titles = ['Original Image','BINARY','TRUNC','TOZERO',]\n",
    "\n",
    "# images = [img, thresh1, thresh2, thresh3]\n",
    "\n",
    "# images = [ image_resize(im, width=200) for im in images]\n",
    "\n",
    "\n",
    "# for i in range(4):\n",
    "    \n",
    "#     plt.imshow(images[i],'gray')\n",
    "#     plt.title(titles[i])\n",
    "#     plt.xticks([]),plt.yticks([])\n",
    "#     plt.show()\n",
    "    \n",
    "#     ocr = pytesseract.image_to_string(images[i])\n",
    "#     print(ocr)\n",
    "    "
   ]
  },
  {
   "cell_type": "code",
   "execution_count": null,
   "metadata": {
    "collapsed": true
   },
   "outputs": [],
   "source": [
    "# import cv2 as cv\n",
    "# import numpy as np\n",
    "# from matplotlib import pyplot as plt\n",
    "\n",
    "# img_large = cv.imread('img/vid1.png',0)\n",
    "\n",
    "# rows, cols = img_large.shape\n",
    "# print(rows, cols)\n",
    "# top, bottom, left, right = 8*rows//16, 9*rows//16, 16*cols//32, 19*cols//32\n",
    "\n",
    "# img = img_large[top:bottom, left:right]\n",
    "# print(img.shape)\n",
    "\n",
    "# img = image_resize(img, width=600)\n",
    "# print(img.shape)\n",
    "\n",
    "# # img = cv.medianBlur(img,5)\n",
    "\n",
    "# ret,th1 = cv.threshold(img,127,255,cv.THRESH_BINARY)\n",
    "# th2 = cv.adaptiveThreshold(img,255,cv.ADAPTIVE_THRESH_MEAN_C,cv.THRESH_BINARY,11,2)\n",
    "# th3 = cv.adaptiveThreshold(img,255,cv.ADAPTIVE_THRESH_GAUSSIAN_C,cv.THRESH_BINARY,11,2)\n",
    "# titles = ['Original Image', 'Global Thresholding (v = 127)','Adaptive Mean Thresholding', 'Adaptive Gaussian Thresholding']\n",
    "\n",
    "\n",
    "# images = [img, th1, th2, th3]\n",
    "\n",
    "\n",
    "# for i in range(4):\n",
    "#     #plt.subplot(2,2,i+1)\n",
    "#     plt.figure(figsize=(5,5))\n",
    "#     plt.imshow(images[i],'gray')\n",
    "#     plt.title(titles[i])\n",
    "#     plt.xticks([]),plt.yticks([])\n",
    "#     plt.show()\n",
    "#     print(pytesseract.image_to_string(images[i]))"
   ]
  },
  {
   "cell_type": "code",
   "execution_count": null,
   "metadata": {
    "collapsed": true
   },
   "outputs": [],
   "source": []
  },
  {
   "cell_type": "code",
   "execution_count": null,
   "metadata": {
    "collapsed": true
   },
   "outputs": [],
   "source": [
    "# print(pytesseract.image_to_string(Image.open('img/vid2b.png')))"
   ]
  },
  {
   "cell_type": "code",
   "execution_count": null,
   "metadata": {
    "collapsed": true
   },
   "outputs": [],
   "source": []
  }
 ],
 "metadata": {
  "anaconda-cloud": {},
  "kernelspec": {
   "display_name": "Python [default]",
   "language": "python",
   "name": "python3"
  },
  "language_info": {
   "codemirror_mode": {
    "name": "ipython",
    "version": 3
   },
   "file_extension": ".py",
   "mimetype": "text/x-python",
   "name": "python",
   "nbconvert_exporter": "python",
   "pygments_lexer": "ipython3",
   "version": "3.5.6"
  }
 },
 "nbformat": 4,
 "nbformat_minor": 2
}
